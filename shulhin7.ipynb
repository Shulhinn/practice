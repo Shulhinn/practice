{
  "nbformat": 4,
  "nbformat_minor": 0,
  "metadata": {
    "colab": {
      "name": "Practice_7_KM-01_.ipynb",
      "provenance": [],
      "collapsed_sections": []
    },
    "kernelspec": {
      "name": "python3",
      "display_name": "Python 3"
    }
  },
  "cells": [
    {
      "cell_type": "markdown",
      "metadata": {
        "id": "FMqboNwO4rVs"
      },
      "source": [
        "# **Курс \"Програмування на мові Python\"**\n",
        "\n",
        "##### Викладачі:\n",
        "##### Борисенко Павло Борисович\n",
        "##### Щьоголєв Максим Олегович\n"
      ]
    },
    {
      "cell_type": "markdown",
      "metadata": {
        "id": "A2T6MigL5Z06"
      },
      "source": [
        "## **Практичне зайняття №7**\n",
        "\n",
        "### Тема: \"Перевірка даних. Робота з виключеннями. Регулярні вирази\""
      ]
    },
    {
      "cell_type": "markdown",
      "metadata": {
        "id": "cfCdgK2zXm7e"
      },
      "source": [
        "### **Завдання 1 (1,5 бали)**\n",
        "\n",
        "Переробити завдання №1 практичної роботи №6 з використанням регулярних виразів.\n",
        "\n",
        "1. Створити шаблон регулярного виразу.\n",
        "\n",
        "2. За допомогою функції compile() створити об'єкт регулярного виразу.\n",
        "\n",
        "3. Всі інші вимоги залишаються такими ж, як і в оригінальному завданні."
      ]
    },
    {
      "cell_type": "code",
      "metadata": {
        "id": "ifNX2M7LXm7f"
      },
      "source": [
        "import re\n",
        "\n",
        "pose_estimation = \"[BodyPart:0-(0.55, 0.17) score=0.81 BodyPart:1-(0.49, 0.27) score=0.85 BodyPart:2-(0.41, 0.26) score=0.67\" \\\n",
        "                  \" BodyPart:3-(0.33, 0.37) score=0.72 BodyPart:4-(0.36, 0.48) score=0.78 BodyPart:5-(0.58, 0.27) score=0.81 \" \\\n",
        "                  \"BodyPart:6-(0.65, 0.38) score=0.88 BodyPart:7-(0.62, 0.48) score=0.86 BodyPart:8-(0.43, 0.48) score=0.60 \" \\\n",
        "                  \"BodyPart:9-(0.43, 0.66) score=0.67 BodyPart:10-(0.53, 0.79) score=0.56 BodyPart:11-(0.53, 0.48) score=0.56\" \\\n",
        "                  \" BodyPart:12-(0.59, 0.66) score=0.75 BodyPart:13-(0.49, 0.80) score=0.50 BodyPart:14-(0.54, 0.15) score=0.73\" \\\n",
        "                  \" BodyPart:15-(0.56, 0.15) score=0.85 BodyPart:16-(0.48, 0.16) score=0.81 BodyPart:17-(0.83, 0.18) score=0.79]\"\n",
        "\n",
        "\n",
        "\n",
        "l1= []\n",
        "l2 = []\n",
        "\n",
        "patern11 = '0.\\d\\d,\\s0.\\d\\d'\n",
        "redexp11 = re.compile(patern11)\n",
        "result11 = redexp11.findall(pose_estimation)\n",
        "\n",
        "patern21 = '=0.\\d\\d'\n",
        "redexp21 = re.compile(patern21)\n",
        "result21 = redexp21.findall(pose_estimation)\n",
        "\n",
        "l1 = ''.join(result11)\n",
        "l2 = ''.join(result21)\n",
        "\n",
        "patern12 = '0.\\d\\d'\n",
        "redexp12 = re.compile(patern12)\n",
        "result12 = redexp12.findall(l1)\n",
        "\n",
        "patern22 = '0.\\d\\d'\n",
        "redexp22 = re.compile(patern22)\n",
        "result22 = redexp22.findall(l2)\n",
        "\n",
        "points = ', '.join(result12)\n",
        "scores = ', '.join(result22)\n",
        "\n",
        "\n",
        "print('points= ['  + str(points) + ']')\n",
        "print('scores= ['  + str(scores) + ']')\n"
      ],
      "execution_count": 2,
      "outputs": []
    },
    {
      "cell_type": "markdown",
      "metadata": {
        "id": "M1Sg0vXJXm7n"
      },
      "source": [
        "### **Завдання 2 (1,5 бали)**\n",
        "\n",
        "Написати програму підрахунку коренів квадратного рівняння без попередніх перевірок.\n",
        "\n",
        "1. Користувач має вводити коефіцієнти a, b та c з клавіатури.\n",
        "\n",
        "2. Програма має обробляти помилки ділення на 0, кореня від'ємного числа та інші, а також виводити відповідні повідомлення у разі виникнення таких помилок.\n",
        "\n",
        "3. Якщо рівняння не має коренів, программа має генерувати помилку за допомогою ключового слова raise, а потім обробляти її.\n",
        "\n",
        "4. Правильно написана програма при виникненні різних помилок має виводити текст помилки, а також різні повідомлення про те, в чому суть цих помилок. Необроблених помилок бути не повинно."
      ]
    },
    {
      "cell_type": "code",
      "metadata": {
        "id": "co7fcAuvXm7o"
      },
      "source": [
        "import math\n",
        "\n",
        "try:\n",
        "    a = int(input(''))\n",
        "    b = int(input(''))\n",
        "    c = int(input(''))\n",
        "\n",
        "    D = pow(b, 2) - 4 * a * c\n",
        "\n",
        "    x1 = (-b + math.sqrt(D)) / 2 * a\n",
        "    x2 = (-b - math.sqrt(D)) / 2 * a\n",
        "\n",
        "    print('x1 = ' + str(x1))\n",
        "    print('x2 = ' + str(x2))\n",
        "\n",
        "    if x1 == x2:\n",
        "        print('x = ' + str(x1))\n",
        "\n",
        "        if D < 0:                       #можно використовувати цю функцію або ValueError\n",
        "            raise Exception(\"Коренів рівняння не цспнує\")\n",
        "\n",
        "except ValueError:\n",
        "        print('Відбулася операція кореня від від`ємного числа')\n",
        "\n",
        "except ZeroDivisionError:\n",
        "    print('Відбулося ділення но 0')\n",
        "except Exception:\n",
        "    print('Загальне виключення')\n"
      ],
      "execution_count": 4,
      "outputs": []
    }
  ]
}