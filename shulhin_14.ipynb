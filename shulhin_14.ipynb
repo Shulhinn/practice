{
  "nbformat": 4,
  "nbformat_minor": 0,
  "metadata": {
    "colab": {
      "name": "Practice_14_KM_01.ipynb",
      "provenance": [],
      "collapsed_sections": []
    },
    "kernelspec": {
      "name": "python3",
      "display_name": "Python 3"
    }
  },
  "cells": [
    {
      "cell_type": "markdown",
      "metadata": {
        "id": "FMqboNwO4rVs"
      },
      "source": [
        "# **Курс \"Програмування на мові Python\"**\n",
        "\n",
        "##### Викладачі:\n",
        "##### Борисенко Павло Борисович\n",
        "##### Щьоголєв Максим Олегович\n"
      ]
    },
    {
      "cell_type": "markdown",
      "metadata": {
        "id": "A2T6MigL5Z06"
      },
      "source": [
        "## **Практичне зайняття №14**\n",
        "\n",
        "### Тема: \"Робота з файлами\""
      ]
    },
    {
      "cell_type": "markdown",
      "metadata": {
        "id": "cfCdgK2zXm7e"
      },
      "source": [
        "### **Завдання 1 (1,5 бали)**\n",
        "\n",
        "У 1939 році друком вийшов роман американського письменика Ернеста Вінсента Райта \"Ґедсбі\". Особливу увагу публіки він здобув через те, що письменник жодного разу не використав у романі літеру \"e\" (роман складається з більше ніж 50,000 слів), яка є найбільш вживаною літерою в англійській мові.\n",
        "\n",
        "Порахуйте кількість входжень кожної літери у текст роману. Виведіть список літер англійського алфавіту, а також інформацію про те, скільки відсотків від усіх літер тексту складає кожна літера алфавіту.\n",
        "\n",
        "Зауваження:\n",
        "\n",
        "1. Програма має ігнорувати будь-які символи, окрім літер.\n",
        "\n",
        "2. Переведіть усі літери у верхній або у нижній регістр.\n",
        "\n",
        "3. Під час виведення відсортуйте літери у порядку зменшення їхнього відсотка. Літера \"e\" має стояти на останньому місці у цьому списку.\n",
        "\n",
        "4. Виведіть перші 5 та останні 5 літер відсортованого списку разом з відсотковими значеннями, що їм відповідають."
      ]
    },
    {
      "cell_type": "code",
      "metadata": {
        "tags": [
          "outputPrepend"
        ],
        "id": "u4-fHJJ6U462"
      },
      "source": [
        "import os\n",
        "\n",
        "PATH = os.getcwd() + \"\\\\gadsby.txt\"\n",
        "ALPHA_DICT = {}\n",
        "\n",
        "with open(PATH, \"r\") as file:\n",
        "    text = file.read()\n",
        "    count = len(text)\n",
        "\n",
        "    for symbol in text:\n",
        "        if symbol.isalpha():\n",
        "            sym = symbol.lower()\n",
        "            if sym not in ALPHA_DICT:\n",
        "                ALPHA_DICT[sym] = 1\n",
        "            else:\n",
        "                ALPHA_DICT[sym] += 1\n",
        "\n",
        "\n",
        "for key in ALPHA_DICT:\n",
        "    ALPHA_DICT[key] = round((ALPHA_DICT[key] / count) * 100, 2)\n",
        "\n",
        "result = list(ALPHA_DICT.items())\n",
        "result.sort(key=lambda tup: tup[1], reverse=True)\n",
        "print(\"Перші п'ять літер: {}\".format(str(result[:5]).strip(\"[]\")),\n",
        "      \"\\nОстанні п'ять літер: {}\".format(str(result[-5:]).strip(\"[]\")))import os\n",
        "\n",
        "PATH = os.getcwd() + \"\\\\gadsby.txt\"\n",
        "ALPHA_DICT = {}\n",
        "\n",
        "with open(PATH, \"r\") as file:\n",
        "    text = file.read()\n",
        "    count = len(text)\n",
        "\n",
        "    for symbol in text:\n",
        "        if symbol.isalpha():\n",
        "            sym = symbol.lower()\n",
        "            if sym not in ALPHA_DICT:\n",
        "                ALPHA_DICT[sym] = 1\n",
        "            else:\n",
        "                ALPHA_DICT[sym] += 1\n",
        "\n",
        "\n",
        "for key in ALPHA_DICT:\n",
        "    ALPHA_DICT[key] = round((ALPHA_DICT[key] / count) * 100, 2)\n",
        "\n",
        "result = list(ALPHA_DICT.items())\n",
        "result.sort(key=lambda tup: tup[1], reverse=True)\n",
        "print(\"Перші п'ять літер: {}\".format(str(result[:5]).strip(\"[]\")),\n",
        "      \"\\nОстанні п'ять літер: {}\".format(str(result[-5:]).strip(\"[]\")))"
      ],
      "execution_count": null,
      "outputs": []
    },
    {
      "cell_type": "markdown",
      "metadata": {
        "id": "A34oz70eU463"
      },
      "source": [
        "### **Завдання 2 (1,5 бали)**\n",
        "\n",
        "Створіть CSV-файл, що буде містити від 5 до 10 пісень (творів) вашого улюбленого музиканта. Назва файлу - ім'я музиканта (композитора) або назва гурту.\n",
        "\n",
        "1. Обов'язково додайте до файлу рядок з назвами двох колонок (Song, Year) або (Composition, Year).\n",
        "\n",
        "2. Після запису файлу роздрукуйте назву файлу та усі наявні у файлі рядки (включно із заголовками).\n",
        "\n",
        "3. Для запису та зчитування рядків скористайтесь функціями csv.DictWriter() та csv.DictReader()."
      ]
    },
    {
      "cell_type": "code",
      "metadata": {
        "id": "MEJIrG1GU463"
      },
      "source": [
        "import csv\n",
        "\n",
        "file_name = \"RHCP.csv\"\n",
        "with open(file_name, \"w\", newline=\"\") as file:\n",
        "    fieldnames = [\"Song\", \"Year\"]\n",
        "    writer = csv.DictWriter(file, fieldnames=fieldnames)\n",
        "    writer.writeheader()\n",
        "    writer.writerow({\"Song\": \"Otherside\", \"Year\": \"1999\"})\n",
        "    writer.writerow({\"Song\": \"Californication\", \"Year\": \"1999\"})\n",
        "    writer.writerow({\"Song\": \"By the Way\", \"Year\": \"2002\"})\n",
        "    writer.writerow({\"Song\": \"Around the World\", \"Year\": \"1999\"})\n",
        "    writer.writerow({\"Song\": \"Scar Tissue\", \"Year\": \"1999\"})\n",
        "    writer.writerow({\"Song\": \"Can't stop\", \"Year\": \"2002\"})\n",
        "    writer.writerow({\"Song\": \"Snow\", \"Year\": \"2006\"})\n",
        "\n",
        "with open(file_name, \"r\", newline=\"\") as file:\n",
        "    reader = csv.DictReader(file)\n",
        "    print(file.name, end=\"\\n\\n\")\n",
        "    tab = 21\n",
        "    for header in reader.fieldnames:\n",
        "        print(header, end=\" \"*(tab-4))\n",
        "\n",
        "    print(\"\\n\" + \"-\"*(tab+4))\n",
        "\n",
        "    for row in reader:\n",
        "        song, year = row[\"Song\"], row[\"Year\"]\n",
        "        length = len(song)\n",
        "        print(song + \" \"*(tab - length) + year)"
      ],
      "execution_count": null,
      "outputs": []
    },
    {
      "cell_type": "markdown",
      "metadata": {
        "id": "Jb-eSBsWU464"
      },
      "source": [
        "### **Завдання 3 (бонусне, 1 бал)**\n",
        "\n",
        "COCO Dataset - набір фотографій та анотацій до них. Його дуже часто використовують для тренування класифікаторів, призначених для розпізнавання об'єктів та визначення ключових точок на зображеннях.\n",
        "\n",
        "Завантажте файли з описом фотографій COCO Dataset за посиланням: http://images.cocodataset.org/annotations/image_info_test2017.zip\n",
        "\n",
        "1. Відкрийте файл image_info_test-dev2017.json. Інформація про фотографії з бази COCO міститься у полі \"images\". Інформація про категорії, на які розділені всі фотографії, міститься у полі \"categories\".\n",
        "\n",
        "2. Визначте кількість фотографій, інформацію про які можна знайти у цьому файлі (кількість елементів, що відповідають ключу \"images\").\n",
        "\n",
        "3. Визначте кількість наявних категорій (кількість елементів, що відповідають ключу \"categories\").\n",
        "\n",
        "4. Виведіть посилання на фотографію 000000000001.jpg (\"coco_url\"), висоту цієї фотографії (\"height\"), ширину (\"width\") та її ідентифікатор (\"id\").\n",
        "\n",
        "5. Опис структури JSON-файлу для набору фотографій COCO можна знайти за посиланням: https://cocodataset.org/#format-data\n",
        "\n",
        "6. Щоб перевірити правильність результатів, у VS Code встановіть розширення JSON та відкрийте файл image_info_test-dev2017.json. Розширення автоматично визначає кількість елементів у кожному полі."
      ]
    },
    {
      "cell_type": "code",
      "metadata": {
        "id": "74C6WKB_U464"
      },
      "source": [
        "import json\n",
        "\n",
        "file_name = \"image_info_test-dev2017.json\"\n",
        "\n",
        "with open(file_name) as file:\n",
        "    data = json.load(file)\n",
        "\n",
        "images, categories = data[\"images\"], data[\"categories\"]\n",
        "print(\"Кількість фотографій: {}\\nКількість категорій: {}\".format(len(images), len(categories)))\n",
        "\n",
        "for image in images:\n",
        "    if image[\"file_name\"] == \"000000000001.jpg\":\n",
        "        string = \"Посилання на фотографію: {}\\nЇї висота: {}, ширина: {}, ідентифікатор: {}\"\n",
        "        print(string.format(image[\"coco_url\"], image[\"height\"], image[\"width\"], image[\"id\"]))\n",
        "        break"
      ],
      "execution_count": null,
      "outputs": []
    }
  ]
}