{
  "nbformat": 4,
  "nbformat_minor": 0,
  "metadata": {
    "colab": {
      "name": "Practice_7_KM-01_.ipynb",
      "provenance": [],
      "collapsed_sections": []
    },
    "kernelspec": {
      "name": "python3",
      "display_name": "Python 3"
    }
  },
  "cells": [
    {
      "cell_type": "markdown",
      "metadata": {
        "id": "FMqboNwO4rVs"
      },
      "source": [
        "# **Курс \"Програмування на мові Python\"**\n",
        "\n",
        "##### Викладачі:\n",
        "##### Борисенко Павло Борисович\n",
        "##### Щьоголєв Максим Олегович\n"
      ]
    },
    {
      "cell_type": "markdown",
      "metadata": {
        "id": "A2T6MigL5Z06"
      },
      "source": [
        "## **Практичне зайняття №9**\n",
        "\n",
        "### Тема: \"Лямбда-функції. Функції вищих порядків\""
      ]
    },
    {
      "cell_type": "markdown",
      "metadata": {
        "id": "cfCdgK2zXm7e"
      },
      "source": [
        "### **Завдання 1 (1 бал)**\n",
        "\n",
        "Продавець роздрібного товару влаштовує розпродаж. Для всіх товарів знижка однакова - 60%. Щоб вивісити нові цінники, продавець хоче скласти таблицю, в якій для кожного товару буде підрахована його нова вартість та сума знижки.\n",
        "\n",
        "Написати програму, яка буде генерувати таку таблицю. Вартість одиниць товарів до розпродажу подано у списку products_list. \n",
        "\n",
        "1. Для підрахунку невідомих значень повинні використовуватись вбудовані функції вищих порядків.\n",
        "\n",
        "2. Вартість з урахуванням знижки та суми знижок для кожного товару повинні зберігатись у двох окремих списках. Порядок товарів у нових списках повинен бути такий самий, як і в списку products_list.\n",
        "\n",
        "3. Кожне підраховане числове значення має бути округлене до сотих.\n",
        "\n",
        "4. Дані повинні виводитись у вигляді:\n",
        "\n",
        "**Discount table:**\n",
        "\n",
        "**29.25 11.7 17.55**\n",
        "\n",
        "**48.99 19.6 29.39**\n",
        "\n",
        "**...**\n",
        "\n",
        "\n",
        "products_list = [[29.25, 48.99, 99.98, 124.65, 214.30, 543.90, 799.85]]\n"
      ]
    },
    {
      "cell_type": "code",
      "metadata": {
        "id": "ifNX2M7LXm7f"
      },
      "source": [
        "products_list = [29.25, 48.99, 99.98, 124.65, 214.30, 543.90, 799.85]\n",
        "price_after_discount=list(map(lambda i:i*0.6, products_list))\n",
        "discount=list(map(lambda x,y: x-y, products_list,price_after_discount))\n",
        "print(\"Discount table:\")\n",
        "for i in range(len(products_list)):\n",
        "    print(round(products_list[i], 2),round(discount[i],2),round(price_after_discount[i],2))"
      ],
      "execution_count": null,
      "outputs": []
    },
    {
      "source": [
        "### **Завдання 2 (2 бали)**\n",
        "\n",
        "Зазвичай рік має 365 днів. Однак у високосні роки додається ще один день - 29 лютого. Правила визначення високосного року такі:\n",
        "\n",
        "- Будь-який рік, що ділиться на 400 - високосний.\n",
        "\n",
        "- З тих років, що залишились, будь-який рік, що ділиться на 100 - **не** високосний.\n",
        "\n",
        "- З тих років, що залишились, будь-який рік, що ділиться на 4 - високосний.\n",
        "\n",
        "- Усі інші роки, що залишились - **не** високосні.\n",
        "\n",
        "1) Створіть функцію, в якій за допомогою вбудованих функцій вищих порядків будуть визначатися високосні роки серед перелічених років у списку years. Створена функція має повертати список високосних років.\n",
        "\n",
        "2) Створіть функцію вищих порядків, яка прийматиме на вхід попередню функцію та визначатиме кількість днів у місяці. Також функція повинна приймати на вхід ще 2 параметри: ціле число від 1 до 12 (місяць) та рік, як ціле чотирицифрове число. Ці значення корисувач має вводити з клавіатури. Перевірку введених даних слід виконувати поза межами функцій."
      ],
      "cell_type": "markdown",
      "metadata": {}
    },
    {
      "cell_type": "code",
      "execution_count": null,
      "metadata": {},
      "outputs": [],
      "source": [
        "import numpy as np\n",
        "\n",
        "years = np.arange(1900, 2020 + 1, 1)\n",
        "\n",
        "while True:\n",
        "    month = input('введіть місяць ')\n",
        "    try:\n",
        "        month = int(month)\n",
        "        if month not in range(1, 13):\n",
        "            print('некорекний ввід')\n",
        "            pass\n",
        "        break\n",
        "    except ValueError:\n",
        "        print('тільки цілі можна')\n",
        "\n",
        "\n",
        "while True:\n",
        "    yeas = input('введіть рік ')\n",
        "    try:\n",
        "        yeas = int(yeas)\n",
        "        if yeas not in range(999, 9999):\n",
        "            print('некорекний ввід')\n",
        "            pass\n",
        "        break\n",
        "    except ValueError:\n",
        "        print('тільки цілі можна')\n",
        "\n",
        "\n",
        "\n",
        "def days_month(is_leap_year, year, mounth):\n",
        "    if mounth in [1, 3, 5, 7, 8, 10, 12]:\n",
        "        return \"31\"\n",
        "    elif mounth in [4, 6, 9, 11]:\n",
        "        return \"30\"\n",
        "    elif mounth == 2:\n",
        "        if year in is_leap_year(years):\n",
        "            return \"29\"\n",
        "        else:\n",
        "            return \"28\"\n",
        "    else:\n",
        "        return 'сталася помилка'\n",
        "\n",
        "\n",
        "def leap_years(list_years):\n",
        "    list_leap = list(\n",
        "        filter(lambda year: (year % 4 == 0 and (year % 400 == 0 or year % 100 != 0)) or year % 400 == 0, list_years))\n",
        "    return list_high\n",
        "\n",
        "print('дні місяця ', days_month(high_years, yeas, month))\n"
      ]
    }
  ]
}